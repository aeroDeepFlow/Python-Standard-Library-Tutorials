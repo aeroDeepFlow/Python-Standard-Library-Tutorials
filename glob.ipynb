{
 "cells": [
  {
   "cell_type": "markdown",
   "metadata": {},
   "source": [
    "# glob. Filename Pattern Matching"
   ]
  },
  {
   "cell_type": "markdown",
   "metadata": {},
   "source": [
    "Even though the glob API is very simple, the module packs a lot of power. It is useful in any situation where your program needs to look for a list of files on the filesystem with names matching a pattern. If you need a list of filenames that all have a certain extension, prefix, or any common string in the middle, use glob instead of writing code to scan the directory contents yourself.\n",
    "\n",
    "The pattern rules for glob are not regular expressions. Instead, **they follow standard Unix path expansion rules**. There are only a few special characters: two different wild-cards, and character ranges are supported. The patterns rules are applied to segments of the filename (stopping at the path separator, /). Paths in the pattern can be relative or absolute. Shell variable names and tilde (~) are not expanded."
   ]
  },
  {
   "cell_type": "code",
   "execution_count": 1,
   "metadata": {},
   "outputs": [],
   "source": [
    "import glob"
   ]
  },
  {
   "cell_type": "markdown",
   "metadata": {},
   "source": [
    "Next examples, we will be working on, are based on the next directories and files stucture. \n",
    "\n",
    "The current path is that defined by the next string: \n",
    "\n",
    "**'/home/sato/Desktop/Github/Tutorials'**. \n",
    "\n",
    "\n",
    "Also, going one level up in the directory hierarchy, the parent directory, we get the following structure. \n",
    "\n",
    "['../data/titanic.csv',\n",
    "\n",
    " '../Tutorials/pathlib.ipynb',\n",
    " '../Tutorials/pathlib',\n",
    " '../Tutorials/glob.ipynb',\n",
    " \n",
    " '../20191013/Linear_Regressor_v2.ipynb',\n",
    " '../20191013/Linear_Regressor_I.ipynb',\n",
    " '../20191013/Linear_Regressor_v1.ipynb',\n",
    " '../20191013/Logistic_Regressor_v1.ipynb',\n",
    " \n",
    " '../20191020/Linear_Regressor_v2.ipynb',\n",
    " '../20191020/Linear_Regressor_v1.ipynb',\n",
    " '../20191020/Logistic_Regressor_v1.ipynb']"
   ]
  },
  {
   "cell_type": "markdown",
   "metadata": {},
   "source": [
    "## Wildcards"
   ]
  },
  {
   "cell_type": "markdown",
   "metadata": {},
   "source": [
    "An asterisk **`(*)`** matches zero or more characters in a segment of a name."
   ]
  },
  {
   "cell_type": "code",
   "execution_count": 2,
   "metadata": {},
   "outputs": [
    {
     "data": {
      "text/plain": [
       "['./pathlib.ipynb', './pathlib', './glob.ipynb']"
      ]
     },
     "execution_count": 2,
     "metadata": {},
     "output_type": "execute_result"
    }
   ],
   "source": [
    "# listing all files in current directory\n",
    "glob.glob('./*')"
   ]
  },
  {
   "cell_type": "code",
   "execution_count": 3,
   "metadata": {},
   "outputs": [
    {
     "data": {
      "text/plain": [
       "['../data', '../Tutorials', '../NMIST_V1.ipynb', '../20191013', '../20191020']"
      ]
     },
     "execution_count": 3,
     "metadata": {},
     "output_type": "execute_result"
    }
   ],
   "source": [
    "# listing all directories in the parent directory\n",
    "glob.glob('../*')"
   ]
  },
  {
   "cell_type": "code",
   "execution_count": 4,
   "metadata": {},
   "outputs": [
    {
     "data": {
      "text/plain": [
       "['../data/titanic.csv',\n",
       " '../Tutorials/pathlib.ipynb',\n",
       " '../Tutorials/pathlib',\n",
       " '../Tutorials/glob.ipynb',\n",
       " '../20191013/Linear_Regressor_v2.ipynb',\n",
       " '../20191013/Linear_Regressor_I.ipynb',\n",
       " '../20191013/Linear_Regressor_v1.ipynb',\n",
       " '../20191013/Logistic_Regressor_v1.ipynb',\n",
       " '../20191020/Linear_Regressor_v2.ipynb',\n",
       " '../20191020/Linear_Regressor_v1.ipynb',\n",
       " '../20191020/Logistic_Regressor_v1.ipynb']"
      ]
     },
     "execution_count": 4,
     "metadata": {},
     "output_type": "execute_result"
    }
   ],
   "source": [
    "# listing all files and directories recursively\n",
    "glob.glob('../*/*')"
   ]
  },
  {
   "cell_type": "code",
   "execution_count": 5,
   "metadata": {},
   "outputs": [
    {
     "data": {
      "text/plain": [
       "['../data/titanic.csv']"
      ]
     },
     "execution_count": 5,
     "metadata": {},
     "output_type": "execute_result"
    }
   ],
   "source": [
    "# listing all files having .csv extension\n",
    "glob.glob('../*/*.csv')"
   ]
  },
  {
   "cell_type": "markdown",
   "metadata": {},
   "source": [
    "## Single Character Wildcard"
   ]
  },
  {
   "cell_type": "markdown",
   "metadata": {},
   "source": [
    "The other wildcard character supported is the question mark **`(?)`**. It matches any single character in that position in the name."
   ]
  },
  {
   "cell_type": "code",
   "execution_count": 6,
   "metadata": {},
   "outputs": [
    {
     "data": {
      "text/plain": [
       "['../data/titanic.csv']"
      ]
     },
     "execution_count": 6,
     "metadata": {},
     "output_type": "execute_result"
    }
   ],
   "source": [
    "# listing all the files that match the given pattern\n",
    "glob.glob('../*/?it*.*')"
   ]
  },
  {
   "cell_type": "code",
   "execution_count": 7,
   "metadata": {},
   "outputs": [
    {
     "data": {
      "text/plain": [
       "['../20191013/Linear_Regressor_v2.ipynb',\n",
       " '../20191013/Linear_Regressor_I.ipynb',\n",
       " '../20191013/Linear_Regressor_v1.ipynb',\n",
       " '../20191013/Logistic_Regressor_v1.ipynb',\n",
       " '../20191020/Linear_Regressor_v2.ipynb',\n",
       " '../20191020/Linear_Regressor_v1.ipynb',\n",
       " '../20191020/Logistic_Regressor_v1.ipynb']"
      ]
     },
     "execution_count": 7,
     "metadata": {},
     "output_type": "execute_result"
    }
   ],
   "source": [
    "# listing all the files that match the given pattern\n",
    "glob.glob('../*/L*_?*.ipynb')"
   ]
  },
  {
   "cell_type": "markdown",
   "metadata": {},
   "source": [
    "## Character Ranges"
   ]
  },
  {
   "cell_type": "markdown",
   "metadata": {},
   "source": [
    "When you need to match a specific character, use a character range instead of a question mark. For example, to find all of the files which have a digit in the name before the extension."
   ]
  },
  {
   "cell_type": "code",
   "execution_count": 8,
   "metadata": {},
   "outputs": [
    {
     "data": {
      "text/plain": [
       "['../20191013/Logistic_Regressor_v1.ipynb',\n",
       " '../20191020/Logistic_Regressor_v1.ipynb']"
      ]
     },
     "execution_count": 8,
     "metadata": {},
     "output_type": "execute_result"
    }
   ],
   "source": [
    "# listing all the files that match the given pattern\n",
    "glob.glob('../*/Lo*_v[0-9].*')"
   ]
  },
  {
   "cell_type": "code",
   "execution_count": null,
   "metadata": {},
   "outputs": [],
   "source": []
  }
 ],
 "metadata": {
  "@webio": {
   "lastCommId": null,
   "lastKernelId": null
  },
  "kernelspec": {
   "display_name": "Python 3",
   "language": "python",
   "name": "python3"
  },
  "language_info": {
   "codemirror_mode": {
    "name": "ipython",
    "version": 3
   },
   "file_extension": ".py",
   "mimetype": "text/x-python",
   "name": "python",
   "nbconvert_exporter": "python",
   "pygments_lexer": "ipython3",
   "version": "3.7.3"
  },
  "toc": {
   "base_numbering": 1,
   "nav_menu": {},
   "number_sections": true,
   "sideBar": true,
   "skip_h1_title": false,
   "title_cell": "Table of Contents",
   "title_sidebar": "Contents",
   "toc_cell": false,
   "toc_position": {},
   "toc_section_display": true,
   "toc_window_display": true
  },
  "varInspector": {
   "cols": {
    "lenName": 16,
    "lenType": 16,
    "lenVar": 40
   },
   "kernels_config": {
    "python": {
     "delete_cmd_postfix": "",
     "delete_cmd_prefix": "del ",
     "library": "var_list.py",
     "varRefreshCmd": "print(var_dic_list())"
    },
    "r": {
     "delete_cmd_postfix": ") ",
     "delete_cmd_prefix": "rm(",
     "library": "var_list.r",
     "varRefreshCmd": "cat(var_dic_list()) "
    }
   },
   "types_to_exclude": [
    "module",
    "function",
    "builtin_function_or_method",
    "instance",
    "_Feature"
   ],
   "window_display": false
  }
 },
 "nbformat": 4,
 "nbformat_minor": 2
}
